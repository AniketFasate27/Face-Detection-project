import cv2
from tkinter import *
from tkinter import messagebox

def start_face_detection():
    
    try:
        face_cascade = cv2.CascadeClassifier("C:/Users/HP/AppData/Local/Programs/Python/Python311/Lib/site-packages/cv2/data/haarcascade_frontalface_default.xml")
    except Exception as e:
        print(f"Error loading cascade classifier file: {e}")
        return

    cap = cv2.VideoCapture(0)

    cv2.namedWindow("Camera", cv2.WND_PROP_FULLSCREEN)
    cv2.setWindowProperty("Camera", cv2.WND_PROP_FULLSCREEN, cv2.WINDOW_FULLSCREEN)


    while True:
        
        ret, frame = cap.read()
        gray = cv2.cvtColor(frame, cv2.COLOR_BGR2GRAY)
        faces = face_cascade.detectMultiScale(gray, scaleFactor=1.3, minNeighbors=5)

        if len(faces) == 0:
            cv2.putText(frame, "Ohhhhhh!!!", (10, 30), cv2.FONT_HERSHEY_COMPLEX, 1, (0, 0, 255), 2)
            cv2.putText(frame, "Please remove obstacles...", (10, 55), cv2.FONT_HERSHEY_SIMPLEX, 1, (0, 0, 255), 2)
            cv2.imshow('Camera', frame)
            
        else:
            for (x, y, w, h) in faces:
                cv2.rectangle(frame, (x, y), (x+w, y+h), (0, 0, 255), 2)
                cv2.imshow('Camera', frame)
        
        if cv2.waitKey(1) & 0xFF == ord('q'):
            break
    cap.release()
    cv2.destroyAllWindows()

def authenticate_user():
   
    username = username_entry.get()
    password = password_entry.get()

    if username == "cit" and password == "cap":
        messagebox.showinfo("Authentication", "Authenticating user...")

        start_face_detection()
    else:
       messagebox.showerror("Authentication", "Incorrect username or password.")


root = Tk()
root.title("Face Detection Login")
# root.geometry("600x400")
root.attributes('-fullscreen', True)



root.configure(bg="navy blue")

username_label = Label(root, text="Username:", font=("Arial", 24), fg="white", bg="navy blue")
username_entry = Entry(root, font=("Arial", 24))
password_label = Label(root, text="Password:", font=("Arial", 24), fg="white", bg="navy blue")
password_entry = Entry(root, show="*", font=("Arial", 24))

login_button = Button(root, text="Login", font=("Arial", 24), command=authenticate_user)

username_label.place(relx=0.5, rely=0.35, anchor=CENTER)
username_entry.place(relx=0.5, rely=0.45, anchor=CENTER)
password_label.place(relx=0.5, rely=0.55, anchor=CENTER)
password_entry.place(relx=0.5, rely=0.65, anchor=CENTER)
login_button.place(relx=0.5, rely=0.8, anchor=CENTER)


root.mainloop()